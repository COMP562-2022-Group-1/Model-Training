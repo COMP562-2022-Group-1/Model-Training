{
 "cells": [
  {
   "cell_type": "code",
   "execution_count": 1,
   "id": "f47c498c-4736-452b-ab08-267b12e10648",
   "metadata": {},
   "outputs": [
    {
     "name": "stdout",
     "output_type": "stream",
     "text": [
      "Requirement already satisfied: pandas in c:\\users\\jhsib\\appdata\\local\\programs\\python\\python39\\lib\\site-packages (1.4.2)\n",
      "Requirement already satisfied: seaborn in c:\\users\\jhsib\\appdata\\local\\programs\\python\\python39\\lib\\site-packages (0.11.2)\n",
      "Requirement already satisfied: matplotlib in c:\\users\\jhsib\\appdata\\local\\programs\\python\\python39\\lib\\site-packages (3.4.3)\n",
      "Requirement already satisfied: scikit-learn in c:\\users\\jhsib\\appdata\\local\\programs\\python\\python39\\lib\\site-packages (1.0.2)\n",
      "Requirement already satisfied: xgboost in c:\\users\\jhsib\\appdata\\local\\programs\\python\\python39\\lib\\site-packages (1.6.0)\n",
      "Requirement already satisfied: scikit-plot in c:\\users\\jhsib\\appdata\\local\\programs\\python\\python39\\lib\\site-packages (0.3.7)\n",
      "Requirement already satisfied: imbalanced-learn in c:\\users\\jhsib\\appdata\\local\\programs\\python\\python39\\lib\\site-packages (0.9.0)\n",
      "Requirement already satisfied: pytz>=2020.1 in c:\\users\\jhsib\\appdata\\local\\programs\\python\\python39\\lib\\site-packages (from pandas) (2022.1)\n",
      "Requirement already satisfied: python-dateutil>=2.8.1 in c:\\users\\jhsib\\appdata\\local\\programs\\python\\python39\\lib\\site-packages (from pandas) (2.8.2)\n",
      "Requirement already satisfied: numpy>=1.18.5 in c:\\users\\jhsib\\appdata\\local\\programs\\python\\python39\\lib\\site-packages (from pandas) (1.21.3)\n",
      "Requirement already satisfied: scipy>=1.0 in c:\\users\\jhsib\\appdata\\local\\programs\\python\\python39\\lib\\site-packages (from seaborn) (1.8.0)\n",
      "Requirement already satisfied: kiwisolver>=1.0.1 in c:\\users\\jhsib\\appdata\\local\\programs\\python\\python39\\lib\\site-packages (from matplotlib) (1.3.2)\n",
      "Requirement already satisfied: pillow>=6.2.0 in c:\\users\\jhsib\\appdata\\local\\programs\\python\\python39\\lib\\site-packages (from matplotlib) (8.4.0)\n",
      "Requirement already satisfied: cycler>=0.10 in c:\\users\\jhsib\\appdata\\local\\programs\\python\\python39\\lib\\site-packages (from matplotlib) (0.11.0)\n",
      "Requirement already satisfied: pyparsing>=2.2.1 in c:\\users\\jhsib\\appdata\\local\\programs\\python\\python39\\lib\\site-packages (from matplotlib) (2.4.7)\n",
      "Requirement already satisfied: threadpoolctl>=2.0.0 in c:\\users\\jhsib\\appdata\\local\\programs\\python\\python39\\lib\\site-packages (from scikit-learn) (3.1.0)\n",
      "Requirement already satisfied: joblib>=0.11 in c:\\users\\jhsib\\appdata\\local\\programs\\python\\python39\\lib\\site-packages (from scikit-learn) (1.1.0)\n",
      "Requirement already satisfied: six>=1.5 in c:\\users\\jhsib\\appdata\\local\\programs\\python\\python39\\lib\\site-packages (from python-dateutil>=2.8.1->pandas) (1.16.0)\n"
     ]
    },
    {
     "name": "stderr",
     "output_type": "stream",
     "text": [
      "WARNING: You are using pip version 22.0.3; however, version 22.0.4 is available.\n",
      "You should consider upgrading via the 'C:\\Users\\jhsib\\AppData\\Local\\Programs\\Python\\Python39\\python.exe -m pip install --upgrade pip' command.\n"
     ]
    }
   ],
   "source": [
    "# Installing the relevant libraries\n",
    "!pip install pandas seaborn matplotlib scikit-learn xgboost scikit-plot imbalanced-learn"
   ]
  },
  {
   "cell_type": "code",
   "execution_count": 2,
   "id": "12b50b32-2990-4b47-85a7-ea40501790ac",
   "metadata": {},
   "outputs": [],
   "source": [
    "import pandas as pd\n",
    "import seaborn as sns\n",
    "import matplotlib as plt\n",
    "import scikitplot as skplt\n",
    "from imblearn.over_sampling import SMOTE\n",
    "from sklearn.preprocessing import LabelEncoder\n",
    "from sklearn.model_selection import train_test_split\n",
    "from sklearn.linear_model import LogisticRegression\n",
    "from sklearn.ensemble import RandomForestClassifier, VotingClassifier\n",
    "from xgboost import XGBClassifier, plot_importance\n",
    "from sklearn.metrics import roc_auc_score, f1_score, accuracy_score, precision_score, recall_score, confusion_matrix, mean_squared_error, auc, roc_curve"
   ]
  },
  {
   "cell_type": "markdown",
   "id": "88db85ed-1e37-4ea0-9cb0-d298241db8c6",
   "metadata": {},
   "source": [
    "## Data Preprocessing"
   ]
  },
  {
   "cell_type": "code",
   "execution_count": 3,
   "id": "25e3f2cb-c31f-4872-9981-b56b413dfabe",
   "metadata": {},
   "outputs": [],
   "source": [
    "df = pd.read_csv('US_Americasbarometer_2017.csv')\n",
    "df.drop(columns = df.columns[0], axis = 1, inplace = True)\n",
    "df.drop(['q12m', 'q12f', 'q1', 'q2'], axis = 1, inplace = True) \n",
    "#drop vb3n because it is the output, q12m and q12f because too many na, q1 and q2 because question is not in given questionnaire\n",
    "df.dropna(inplace = True)\n",
    "y = df['vb3n']\n",
    "df.drop(['vb3n'], axis = 1, inplace = True)"
   ]
  },
  {
   "cell_type": "code",
   "execution_count": 4,
   "id": "6d17cf6e-e229-46b7-b282-5b69fe96ff31",
   "metadata": {
    "tags": []
   },
   "outputs": [
    {
     "name": "stdout",
     "output_type": "stream",
     "text": [
      "<class 'pandas.core.frame.DataFrame'>\n",
      "Int64Index: 1117 entries, 0 to 1498\n",
      "Data columns (total 65 columns):\n",
      " #   Column    Non-Null Count  Dtype  \n",
      "---  ------    --------------  -----  \n",
      " 0   ls3       1117 non-null   float64\n",
      " 1   a4        1117 non-null   int64  \n",
      " 2   soct2     1117 non-null   float64\n",
      " 3   idio2     1117 non-null   float64\n",
      " 4   np1       1117 non-null   float64\n",
      " 5   it1       1117 non-null   float64\n",
      " 6   l1b       1117 non-null   float64\n",
      " 7   prot3     1117 non-null   float64\n",
      " 8   vic1ext   1117 non-null   float64\n",
      " 9   aoj11     1117 non-null   float64\n",
      " 10  b1        1117 non-null   float64\n",
      " 11  b2        1117 non-null   float64\n",
      " 12  b3        1117 non-null   float64\n",
      " 13  b4        1117 non-null   float64\n",
      " 14  b6        1117 non-null   float64\n",
      " 15  b43       1117 non-null   float64\n",
      " 16  b12       1117 non-null   float64\n",
      " 17  b13       1117 non-null   int64  \n",
      " 18  b18       1117 non-null   int64  \n",
      " 19  b21       1117 non-null   int64  \n",
      " 20  b21a      1117 non-null   int64  \n",
      " 21  b32       1117 non-null   int64  \n",
      " 22  b37       1117 non-null   float64\n",
      " 23  b47a      1117 non-null   int64  \n",
      " 24  m1        1117 non-null   float64\n",
      " 25  m2        1117 non-null   int64  \n",
      " 26  infrax    1117 non-null   int64  \n",
      " 27  infra3    1117 non-null   float64\n",
      " 28  ros1      1117 non-null   float64\n",
      " 29  ros4      1117 non-null   float64\n",
      " 30  ing4      1117 non-null   int64  \n",
      " 31  eff1      1117 non-null   int64  \n",
      " 32  eff2      1117 non-null   float64\n",
      " 33  aoj22new  1117 non-null   int64  \n",
      " 34  media3    1117 non-null   float64\n",
      " 35  media4    1117 non-null   int64  \n",
      " 36  pn4       1117 non-null   float64\n",
      " 37  d1        1117 non-null   float64\n",
      " 38  d2        1117 non-null   float64\n",
      " 39  d3        1117 non-null   float64\n",
      " 40  d4        1117 non-null   float64\n",
      " 41  d5        1117 non-null   float64\n",
      " 42  d6        1117 non-null   int64  \n",
      " 43  lib1      1117 non-null   float64\n",
      " 44  lib2b     1117 non-null   float64\n",
      " 45  lib2c     1117 non-null   float64\n",
      " 46  lib4      1117 non-null   float64\n",
      " 47  usmex1    1117 non-null   float64\n",
      " 48  exc7new   1117 non-null   float64\n",
      " 49  vb1       1117 non-null   float64\n",
      " 50  vb2       1117 non-null   float64\n",
      " 51  usvb1011  1117 non-null   float64\n",
      " 52  pol1      1117 non-null   float64\n",
      " 53  usvb20    1117 non-null   float64\n",
      " 54  aca6      1117 non-null   float64\n",
      " 55  q5a       1117 non-null   float64\n",
      " 56  q5b       1117 non-null   float64\n",
      " 57  q3c       1117 non-null   float64\n",
      " 58  q10new    1117 non-null   float64\n",
      " 59  q11n      1117 non-null   float64\n",
      " 60  q12bn     1117 non-null   float64\n",
      " 61  q12       1117 non-null   float64\n",
      " 62  etid      1117 non-null   float64\n",
      " 63  www1      1117 non-null   int64  \n",
      " 64  gi0       1117 non-null   int64  \n",
      "dtypes: float64(49), int64(16)\n",
      "memory usage: 576.0 KB\n"
     ]
    }
   ],
   "source": [
    "df.info()"
   ]
  },
  {
   "cell_type": "code",
   "execution_count": 5,
   "id": "fa6ab30c-2c33-4839-927a-25c764ca4419",
   "metadata": {
    "tags": []
   },
   "outputs": [
    {
     "data": {
      "text/html": [
       "<div>\n",
       "<style scoped>\n",
       "    .dataframe tbody tr th:only-of-type {\n",
       "        vertical-align: middle;\n",
       "    }\n",
       "\n",
       "    .dataframe tbody tr th {\n",
       "        vertical-align: top;\n",
       "    }\n",
       "\n",
       "    .dataframe thead th {\n",
       "        text-align: right;\n",
       "    }\n",
       "</style>\n",
       "<table border=\"1\" class=\"dataframe\">\n",
       "  <thead>\n",
       "    <tr style=\"text-align: right;\">\n",
       "      <th></th>\n",
       "      <th>ls3</th>\n",
       "      <th>a4</th>\n",
       "      <th>soct2</th>\n",
       "      <th>idio2</th>\n",
       "      <th>np1</th>\n",
       "      <th>it1</th>\n",
       "      <th>l1b</th>\n",
       "      <th>prot3</th>\n",
       "      <th>vic1ext</th>\n",
       "      <th>aoj11</th>\n",
       "      <th>...</th>\n",
       "      <th>q5a</th>\n",
       "      <th>q5b</th>\n",
       "      <th>q3c</th>\n",
       "      <th>q10new</th>\n",
       "      <th>q11n</th>\n",
       "      <th>q12bn</th>\n",
       "      <th>q12</th>\n",
       "      <th>etid</th>\n",
       "      <th>www1</th>\n",
       "      <th>gi0</th>\n",
       "    </tr>\n",
       "  </thead>\n",
       "  <tbody>\n",
       "    <tr>\n",
       "      <th>0</th>\n",
       "      <td>1.0</td>\n",
       "      <td>59</td>\n",
       "      <td>2.0</td>\n",
       "      <td>2.0</td>\n",
       "      <td>1.0</td>\n",
       "      <td>2.0</td>\n",
       "      <td>4.0</td>\n",
       "      <td>2.0</td>\n",
       "      <td>2.0</td>\n",
       "      <td>1.0</td>\n",
       "      <td>...</td>\n",
       "      <td>5.0</td>\n",
       "      <td>4.0</td>\n",
       "      <td>11.0</td>\n",
       "      <td>16.0</td>\n",
       "      <td>2.0</td>\n",
       "      <td>0.0</td>\n",
       "      <td>0.0</td>\n",
       "      <td>1.0</td>\n",
       "      <td>1</td>\n",
       "      <td>1</td>\n",
       "    </tr>\n",
       "    <tr>\n",
       "      <th>1</th>\n",
       "      <td>2.0</td>\n",
       "      <td>10</td>\n",
       "      <td>1.0</td>\n",
       "      <td>3.0</td>\n",
       "      <td>2.0</td>\n",
       "      <td>2.0</td>\n",
       "      <td>3.0</td>\n",
       "      <td>2.0</td>\n",
       "      <td>2.0</td>\n",
       "      <td>1.0</td>\n",
       "      <td>...</td>\n",
       "      <td>5.0</td>\n",
       "      <td>4.0</td>\n",
       "      <td>11.0</td>\n",
       "      <td>15.0</td>\n",
       "      <td>5.0</td>\n",
       "      <td>1.0</td>\n",
       "      <td>1.0</td>\n",
       "      <td>1.0</td>\n",
       "      <td>1</td>\n",
       "      <td>1</td>\n",
       "    </tr>\n",
       "    <tr>\n",
       "      <th>2</th>\n",
       "      <td>1.0</td>\n",
       "      <td>13</td>\n",
       "      <td>1.0</td>\n",
       "      <td>1.0</td>\n",
       "      <td>1.0</td>\n",
       "      <td>2.0</td>\n",
       "      <td>10.0</td>\n",
       "      <td>2.0</td>\n",
       "      <td>2.0</td>\n",
       "      <td>1.0</td>\n",
       "      <td>...</td>\n",
       "      <td>2.0</td>\n",
       "      <td>1.0</td>\n",
       "      <td>6.0</td>\n",
       "      <td>15.0</td>\n",
       "      <td>2.0</td>\n",
       "      <td>5.0</td>\n",
       "      <td>7.0</td>\n",
       "      <td>1.0</td>\n",
       "      <td>1</td>\n",
       "      <td>1</td>\n",
       "    </tr>\n",
       "    <tr>\n",
       "      <th>3</th>\n",
       "      <td>3.0</td>\n",
       "      <td>15</td>\n",
       "      <td>2.0</td>\n",
       "      <td>3.0</td>\n",
       "      <td>2.0</td>\n",
       "      <td>2.0</td>\n",
       "      <td>2.0</td>\n",
       "      <td>2.0</td>\n",
       "      <td>2.0</td>\n",
       "      <td>1.0</td>\n",
       "      <td>...</td>\n",
       "      <td>2.0</td>\n",
       "      <td>2.0</td>\n",
       "      <td>2.0</td>\n",
       "      <td>14.0</td>\n",
       "      <td>2.0</td>\n",
       "      <td>0.0</td>\n",
       "      <td>3.0</td>\n",
       "      <td>1.0</td>\n",
       "      <td>1</td>\n",
       "      <td>1</td>\n",
       "    </tr>\n",
       "    <tr>\n",
       "      <th>4</th>\n",
       "      <td>4.0</td>\n",
       "      <td>16</td>\n",
       "      <td>1.0</td>\n",
       "      <td>2.0</td>\n",
       "      <td>2.0</td>\n",
       "      <td>3.0</td>\n",
       "      <td>10.0</td>\n",
       "      <td>2.0</td>\n",
       "      <td>2.0</td>\n",
       "      <td>1.0</td>\n",
       "      <td>...</td>\n",
       "      <td>5.0</td>\n",
       "      <td>3.0</td>\n",
       "      <td>4.0</td>\n",
       "      <td>15.0</td>\n",
       "      <td>4.0</td>\n",
       "      <td>0.0</td>\n",
       "      <td>0.0</td>\n",
       "      <td>1.0</td>\n",
       "      <td>1</td>\n",
       "      <td>1</td>\n",
       "    </tr>\n",
       "    <tr>\n",
       "      <th>...</th>\n",
       "      <td>...</td>\n",
       "      <td>...</td>\n",
       "      <td>...</td>\n",
       "      <td>...</td>\n",
       "      <td>...</td>\n",
       "      <td>...</td>\n",
       "      <td>...</td>\n",
       "      <td>...</td>\n",
       "      <td>...</td>\n",
       "      <td>...</td>\n",
       "      <td>...</td>\n",
       "      <td>...</td>\n",
       "      <td>...</td>\n",
       "      <td>...</td>\n",
       "      <td>...</td>\n",
       "      <td>...</td>\n",
       "      <td>...</td>\n",
       "      <td>...</td>\n",
       "      <td>...</td>\n",
       "      <td>...</td>\n",
       "      <td>...</td>\n",
       "    </tr>\n",
       "    <tr>\n",
       "      <th>1493</th>\n",
       "      <td>2.0</td>\n",
       "      <td>21</td>\n",
       "      <td>1.0</td>\n",
       "      <td>1.0</td>\n",
       "      <td>1.0</td>\n",
       "      <td>2.0</td>\n",
       "      <td>9.0</td>\n",
       "      <td>1.0</td>\n",
       "      <td>1.0</td>\n",
       "      <td>2.0</td>\n",
       "      <td>...</td>\n",
       "      <td>2.0</td>\n",
       "      <td>2.0</td>\n",
       "      <td>7.0</td>\n",
       "      <td>7.0</td>\n",
       "      <td>3.0</td>\n",
       "      <td>0.0</td>\n",
       "      <td>0.0</td>\n",
       "      <td>1.0</td>\n",
       "      <td>2</td>\n",
       "      <td>1</td>\n",
       "    </tr>\n",
       "    <tr>\n",
       "      <th>1495</th>\n",
       "      <td>2.0</td>\n",
       "      <td>15</td>\n",
       "      <td>3.0</td>\n",
       "      <td>2.0</td>\n",
       "      <td>1.0</td>\n",
       "      <td>2.0</td>\n",
       "      <td>1.0</td>\n",
       "      <td>2.0</td>\n",
       "      <td>2.0</td>\n",
       "      <td>2.0</td>\n",
       "      <td>...</td>\n",
       "      <td>3.0</td>\n",
       "      <td>2.0</td>\n",
       "      <td>1.0</td>\n",
       "      <td>11.0</td>\n",
       "      <td>6.0</td>\n",
       "      <td>2.0</td>\n",
       "      <td>2.0</td>\n",
       "      <td>4003.0</td>\n",
       "      <td>1</td>\n",
       "      <td>2</td>\n",
       "    </tr>\n",
       "    <tr>\n",
       "      <th>1496</th>\n",
       "      <td>2.0</td>\n",
       "      <td>2</td>\n",
       "      <td>3.0</td>\n",
       "      <td>2.0</td>\n",
       "      <td>2.0</td>\n",
       "      <td>1.0</td>\n",
       "      <td>6.0</td>\n",
       "      <td>2.0</td>\n",
       "      <td>2.0</td>\n",
       "      <td>2.0</td>\n",
       "      <td>...</td>\n",
       "      <td>5.0</td>\n",
       "      <td>3.0</td>\n",
       "      <td>1.0</td>\n",
       "      <td>8.0</td>\n",
       "      <td>1.0</td>\n",
       "      <td>0.0</td>\n",
       "      <td>0.0</td>\n",
       "      <td>1.0</td>\n",
       "      <td>1</td>\n",
       "      <td>2</td>\n",
       "    </tr>\n",
       "    <tr>\n",
       "      <th>1497</th>\n",
       "      <td>1.0</td>\n",
       "      <td>21</td>\n",
       "      <td>2.0</td>\n",
       "      <td>1.0</td>\n",
       "      <td>1.0</td>\n",
       "      <td>2.0</td>\n",
       "      <td>6.0</td>\n",
       "      <td>1.0</td>\n",
       "      <td>1.0</td>\n",
       "      <td>2.0</td>\n",
       "      <td>...</td>\n",
       "      <td>1.0</td>\n",
       "      <td>1.0</td>\n",
       "      <td>2.0</td>\n",
       "      <td>1.0</td>\n",
       "      <td>1.0</td>\n",
       "      <td>3.0</td>\n",
       "      <td>0.0</td>\n",
       "      <td>1.0</td>\n",
       "      <td>1</td>\n",
       "      <td>2</td>\n",
       "    </tr>\n",
       "    <tr>\n",
       "      <th>1498</th>\n",
       "      <td>2.0</td>\n",
       "      <td>15</td>\n",
       "      <td>3.0</td>\n",
       "      <td>3.0</td>\n",
       "      <td>2.0</td>\n",
       "      <td>2.0</td>\n",
       "      <td>5.0</td>\n",
       "      <td>1.0</td>\n",
       "      <td>2.0</td>\n",
       "      <td>2.0</td>\n",
       "      <td>...</td>\n",
       "      <td>1.0</td>\n",
       "      <td>1.0</td>\n",
       "      <td>5.0</td>\n",
       "      <td>8.0</td>\n",
       "      <td>4.0</td>\n",
       "      <td>0.0</td>\n",
       "      <td>0.0</td>\n",
       "      <td>4.0</td>\n",
       "      <td>1</td>\n",
       "      <td>1</td>\n",
       "    </tr>\n",
       "  </tbody>\n",
       "</table>\n",
       "<p>1117 rows × 65 columns</p>\n",
       "</div>"
      ],
      "text/plain": [
       "      ls3  a4  soct2  idio2  np1  it1   l1b  prot3  vic1ext  aoj11  ...  q5a  \\\n",
       "0     1.0  59    2.0    2.0  1.0  2.0   4.0    2.0      2.0    1.0  ...  5.0   \n",
       "1     2.0  10    1.0    3.0  2.0  2.0   3.0    2.0      2.0    1.0  ...  5.0   \n",
       "2     1.0  13    1.0    1.0  1.0  2.0  10.0    2.0      2.0    1.0  ...  2.0   \n",
       "3     3.0  15    2.0    3.0  2.0  2.0   2.0    2.0      2.0    1.0  ...  2.0   \n",
       "4     4.0  16    1.0    2.0  2.0  3.0  10.0    2.0      2.0    1.0  ...  5.0   \n",
       "...   ...  ..    ...    ...  ...  ...   ...    ...      ...    ...  ...  ...   \n",
       "1493  2.0  21    1.0    1.0  1.0  2.0   9.0    1.0      1.0    2.0  ...  2.0   \n",
       "1495  2.0  15    3.0    2.0  1.0  2.0   1.0    2.0      2.0    2.0  ...  3.0   \n",
       "1496  2.0   2    3.0    2.0  2.0  1.0   6.0    2.0      2.0    2.0  ...  5.0   \n",
       "1497  1.0  21    2.0    1.0  1.0  2.0   6.0    1.0      1.0    2.0  ...  1.0   \n",
       "1498  2.0  15    3.0    3.0  2.0  2.0   5.0    1.0      2.0    2.0  ...  1.0   \n",
       "\n",
       "      q5b   q3c  q10new  q11n  q12bn  q12    etid  www1  gi0  \n",
       "0     4.0  11.0    16.0   2.0    0.0  0.0     1.0     1    1  \n",
       "1     4.0  11.0    15.0   5.0    1.0  1.0     1.0     1    1  \n",
       "2     1.0   6.0    15.0   2.0    5.0  7.0     1.0     1    1  \n",
       "3     2.0   2.0    14.0   2.0    0.0  3.0     1.0     1    1  \n",
       "4     3.0   4.0    15.0   4.0    0.0  0.0     1.0     1    1  \n",
       "...   ...   ...     ...   ...    ...  ...     ...   ...  ...  \n",
       "1493  2.0   7.0     7.0   3.0    0.0  0.0     1.0     2    1  \n",
       "1495  2.0   1.0    11.0   6.0    2.0  2.0  4003.0     1    2  \n",
       "1496  3.0   1.0     8.0   1.0    0.0  0.0     1.0     1    2  \n",
       "1497  1.0   2.0     1.0   1.0    3.0  0.0     1.0     1    2  \n",
       "1498  1.0   5.0     8.0   4.0    0.0  0.0     4.0     1    1  \n",
       "\n",
       "[1117 rows x 65 columns]"
      ]
     },
     "execution_count": 5,
     "metadata": {},
     "output_type": "execute_result"
    }
   ],
   "source": [
    "df"
   ]
  },
  {
   "cell_type": "code",
   "execution_count": 6,
   "id": "534e0360-dd41-4535-9f1f-ed133cb4bc60",
   "metadata": {},
   "outputs": [
    {
     "data": {
      "text/plain": [
       "<AxesSubplot:>"
      ]
     },
     "execution_count": 6,
     "metadata": {},
     "output_type": "execute_result"
    },
    {
     "data": {
      "image/png": "[encoded data removed]",
      "text/plain": [
       "<Figure size 432x288 with 2 Axes>"
      ]
     },
     "metadata": {
      "needs_background": "light"
     },
     "output_type": "display_data"
    }
   ],
   "source": [
    "#Colinearity plot\n",
    "cor = df.corr()\n",
    "sns.heatmap(cor, vmin = -1)"
   ]
  },
  {
   "cell_type": "code",
   "execution_count": 7,
   "id": "6e89b329-de95-4de6-b673-ed42c5213bac",
   "metadata": {},
   "outputs": [
    {
     "name": "stdout",
     "output_type": "stream",
     "text": [
      "20 24\n",
      "24 20\n"
     ]
    }
   ],
   "source": [
    "#Look for high colinearity and drop columns\n",
    "greater = cor.le(-0.9)\n",
    "for i in range(0,30):\n",
    "    for j in range(0,30):\n",
    "        if i == j:\n",
    "            continue\n",
    "        elif greater.iloc[i][j]:\n",
    "            print(i, j)"
   ]
  },
  {
   "cell_type": "code",
   "execution_count": 8,
   "id": "02bade6c-dc1d-46f6-bddb-d2e288be8130",
   "metadata": {},
   "outputs": [],
   "source": [
    "greater = cor.ge(0.9)\n",
    "for i in range(0,30):\n",
    "    for j in range(0,30):\n",
    "        if i == j:\n",
    "            continue\n",
    "        elif greater.iloc[i][j]:\n",
    "            print(i, j)"
   ]
  },
  {
   "cell_type": "code",
   "execution_count": 9,
   "id": "1f271dbf-2db5-4816-ad60-feddad17f3d9",
   "metadata": {},
   "outputs": [],
   "source": [
    "df.drop(columns = df.columns[20], inplace = True, axis = 1)"
   ]
  },
  {
   "cell_type": "code",
   "execution_count": 10,
   "id": "12cb8615-df8d-421b-a3ba-a703646f6fc0",
   "metadata": {},
   "outputs": [
    {
     "data": {
      "text/plain": [
       "<AxesSubplot:xlabel='vb3n', ylabel='count'>"
      ]
     },
     "execution_count": 10,
     "metadata": {},
     "output_type": "execute_result"
    },
    {
     "data": {
      "image/png": "[encoded data removed]",
      "text/plain": [
       "<Figure size 432x288 with 1 Axes>"
      ]
     },
     "metadata": {
      "needs_background": "light"
     },
     "output_type": "display_data"
    }
   ],
   "source": [
    "sns.countplot(x=y)\n",
    "#Visible that dataset is imbalanced"
   ]
  },
  {
   "cell_type": "code",
   "execution_count": 11,
   "id": "a21c7834-4772-4eff-8558-ab477e9f768e",
   "metadata": {},
   "outputs": [
    {
     "data": {
      "text/html": [
       "<div>\n",
       "<style scoped>\n",
       "    .dataframe tbody tr th:only-of-type {\n",
       "        vertical-align: middle;\n",
       "    }\n",
       "\n",
       "    .dataframe tbody tr th {\n",
       "        vertical-align: top;\n",
       "    }\n",
       "\n",
       "    .dataframe thead th {\n",
       "        text-align: right;\n",
       "    }\n",
       "</style>\n",
       "<table border=\"1\" class=\"dataframe\">\n",
       "  <thead>\n",
       "    <tr style=\"text-align: right;\">\n",
       "      <th></th>\n",
       "      <th>ls3</th>\n",
       "      <th>soct2</th>\n",
       "      <th>idio2</th>\n",
       "      <th>it1</th>\n",
       "      <th>l1b</th>\n",
       "      <th>aoj11</th>\n",
       "      <th>b1</th>\n",
       "      <th>b2</th>\n",
       "      <th>b3</th>\n",
       "      <th>b4</th>\n",
       "      <th>...</th>\n",
       "      <th>q11n_5.0</th>\n",
       "      <th>q11n_6.0</th>\n",
       "      <th>q11n_7.0</th>\n",
       "      <th>etid_4.0</th>\n",
       "      <th>etid_4003.0</th>\n",
       "      <th>etid_4004.0</th>\n",
       "      <th>etid_4005.0</th>\n",
       "      <th>etid_4006.0</th>\n",
       "      <th>etid_4008.0</th>\n",
       "      <th>etid_7.0</th>\n",
       "    </tr>\n",
       "  </thead>\n",
       "  <tbody>\n",
       "    <tr>\n",
       "      <th>0</th>\n",
       "      <td>1</td>\n",
       "      <td>2</td>\n",
       "      <td>2</td>\n",
       "      <td>2</td>\n",
       "      <td>4</td>\n",
       "      <td>1</td>\n",
       "      <td>5</td>\n",
       "      <td>2</td>\n",
       "      <td>5</td>\n",
       "      <td>4</td>\n",
       "      <td>...</td>\n",
       "      <td>0</td>\n",
       "      <td>0</td>\n",
       "      <td>0</td>\n",
       "      <td>0</td>\n",
       "      <td>0</td>\n",
       "      <td>0</td>\n",
       "      <td>0</td>\n",
       "      <td>0</td>\n",
       "      <td>0</td>\n",
       "      <td>0</td>\n",
       "    </tr>\n",
       "    <tr>\n",
       "      <th>1</th>\n",
       "      <td>2</td>\n",
       "      <td>1</td>\n",
       "      <td>3</td>\n",
       "      <td>2</td>\n",
       "      <td>3</td>\n",
       "      <td>1</td>\n",
       "      <td>6</td>\n",
       "      <td>6</td>\n",
       "      <td>6</td>\n",
       "      <td>6</td>\n",
       "      <td>...</td>\n",
       "      <td>1</td>\n",
       "      <td>0</td>\n",
       "      <td>0</td>\n",
       "      <td>0</td>\n",
       "      <td>0</td>\n",
       "      <td>0</td>\n",
       "      <td>0</td>\n",
       "      <td>0</td>\n",
       "      <td>0</td>\n",
       "      <td>0</td>\n",
       "    </tr>\n",
       "    <tr>\n",
       "      <th>2</th>\n",
       "      <td>1</td>\n",
       "      <td>1</td>\n",
       "      <td>1</td>\n",
       "      <td>2</td>\n",
       "      <td>10</td>\n",
       "      <td>1</td>\n",
       "      <td>3</td>\n",
       "      <td>2</td>\n",
       "      <td>1</td>\n",
       "      <td>7</td>\n",
       "      <td>...</td>\n",
       "      <td>0</td>\n",
       "      <td>0</td>\n",
       "      <td>0</td>\n",
       "      <td>0</td>\n",
       "      <td>0</td>\n",
       "      <td>0</td>\n",
       "      <td>0</td>\n",
       "      <td>0</td>\n",
       "      <td>0</td>\n",
       "      <td>0</td>\n",
       "    </tr>\n",
       "    <tr>\n",
       "      <th>3</th>\n",
       "      <td>3</td>\n",
       "      <td>2</td>\n",
       "      <td>3</td>\n",
       "      <td>2</td>\n",
       "      <td>2</td>\n",
       "      <td>1</td>\n",
       "      <td>5</td>\n",
       "      <td>6</td>\n",
       "      <td>6</td>\n",
       "      <td>4</td>\n",
       "      <td>...</td>\n",
       "      <td>0</td>\n",
       "      <td>0</td>\n",
       "      <td>0</td>\n",
       "      <td>0</td>\n",
       "      <td>0</td>\n",
       "      <td>0</td>\n",
       "      <td>0</td>\n",
       "      <td>0</td>\n",
       "      <td>0</td>\n",
       "      <td>0</td>\n",
       "    </tr>\n",
       "    <tr>\n",
       "      <th>4</th>\n",
       "      <td>4</td>\n",
       "      <td>1</td>\n",
       "      <td>2</td>\n",
       "      <td>3</td>\n",
       "      <td>10</td>\n",
       "      <td>1</td>\n",
       "      <td>2</td>\n",
       "      <td>4</td>\n",
       "      <td>4</td>\n",
       "      <td>7</td>\n",
       "      <td>...</td>\n",
       "      <td>0</td>\n",
       "      <td>0</td>\n",
       "      <td>0</td>\n",
       "      <td>0</td>\n",
       "      <td>0</td>\n",
       "      <td>0</td>\n",
       "      <td>0</td>\n",
       "      <td>0</td>\n",
       "      <td>0</td>\n",
       "      <td>0</td>\n",
       "    </tr>\n",
       "    <tr>\n",
       "      <th>...</th>\n",
       "      <td>...</td>\n",
       "      <td>...</td>\n",
       "      <td>...</td>\n",
       "      <td>...</td>\n",
       "      <td>...</td>\n",
       "      <td>...</td>\n",
       "      <td>...</td>\n",
       "      <td>...</td>\n",
       "      <td>...</td>\n",
       "      <td>...</td>\n",
       "      <td>...</td>\n",
       "      <td>...</td>\n",
       "      <td>...</td>\n",
       "      <td>...</td>\n",
       "      <td>...</td>\n",
       "      <td>...</td>\n",
       "      <td>...</td>\n",
       "      <td>...</td>\n",
       "      <td>...</td>\n",
       "      <td>...</td>\n",
       "      <td>...</td>\n",
       "    </tr>\n",
       "    <tr>\n",
       "      <th>1493</th>\n",
       "      <td>2</td>\n",
       "      <td>1</td>\n",
       "      <td>1</td>\n",
       "      <td>2</td>\n",
       "      <td>9</td>\n",
       "      <td>2</td>\n",
       "      <td>2</td>\n",
       "      <td>4</td>\n",
       "      <td>4</td>\n",
       "      <td>2</td>\n",
       "      <td>...</td>\n",
       "      <td>0</td>\n",
       "      <td>0</td>\n",
       "      <td>0</td>\n",
       "      <td>0</td>\n",
       "      <td>0</td>\n",
       "      <td>0</td>\n",
       "      <td>0</td>\n",
       "      <td>0</td>\n",
       "      <td>0</td>\n",
       "      <td>0</td>\n",
       "    </tr>\n",
       "    <tr>\n",
       "      <th>1495</th>\n",
       "      <td>2</td>\n",
       "      <td>3</td>\n",
       "      <td>2</td>\n",
       "      <td>2</td>\n",
       "      <td>1</td>\n",
       "      <td>2</td>\n",
       "      <td>5</td>\n",
       "      <td>3</td>\n",
       "      <td>6</td>\n",
       "      <td>5</td>\n",
       "      <td>...</td>\n",
       "      <td>0</td>\n",
       "      <td>1</td>\n",
       "      <td>0</td>\n",
       "      <td>0</td>\n",
       "      <td>1</td>\n",
       "      <td>0</td>\n",
       "      <td>0</td>\n",
       "      <td>0</td>\n",
       "      <td>0</td>\n",
       "      <td>0</td>\n",
       "    </tr>\n",
       "    <tr>\n",
       "      <th>1496</th>\n",
       "      <td>2</td>\n",
       "      <td>3</td>\n",
       "      <td>2</td>\n",
       "      <td>1</td>\n",
       "      <td>6</td>\n",
       "      <td>2</td>\n",
       "      <td>3</td>\n",
       "      <td>4</td>\n",
       "      <td>5</td>\n",
       "      <td>4</td>\n",
       "      <td>...</td>\n",
       "      <td>0</td>\n",
       "      <td>0</td>\n",
       "      <td>0</td>\n",
       "      <td>0</td>\n",
       "      <td>0</td>\n",
       "      <td>0</td>\n",
       "      <td>0</td>\n",
       "      <td>0</td>\n",
       "      <td>0</td>\n",
       "      <td>0</td>\n",
       "    </tr>\n",
       "    <tr>\n",
       "      <th>1497</th>\n",
       "      <td>1</td>\n",
       "      <td>2</td>\n",
       "      <td>1</td>\n",
       "      <td>2</td>\n",
       "      <td>6</td>\n",
       "      <td>2</td>\n",
       "      <td>5</td>\n",
       "      <td>5</td>\n",
       "      <td>5</td>\n",
       "      <td>4</td>\n",
       "      <td>...</td>\n",
       "      <td>0</td>\n",
       "      <td>0</td>\n",
       "      <td>0</td>\n",
       "      <td>0</td>\n",
       "      <td>0</td>\n",
       "      <td>0</td>\n",
       "      <td>0</td>\n",
       "      <td>0</td>\n",
       "      <td>0</td>\n",
       "      <td>0</td>\n",
       "    </tr>\n",
       "    <tr>\n",
       "      <th>1498</th>\n",
       "      <td>2</td>\n",
       "      <td>3</td>\n",
       "      <td>3</td>\n",
       "      <td>2</td>\n",
       "      <td>5</td>\n",
       "      <td>2</td>\n",
       "      <td>4</td>\n",
       "      <td>6</td>\n",
       "      <td>3</td>\n",
       "      <td>5</td>\n",
       "      <td>...</td>\n",
       "      <td>0</td>\n",
       "      <td>0</td>\n",
       "      <td>0</td>\n",
       "      <td>1</td>\n",
       "      <td>0</td>\n",
       "      <td>0</td>\n",
       "      <td>0</td>\n",
       "      <td>0</td>\n",
       "      <td>0</td>\n",
       "      <td>0</td>\n",
       "    </tr>\n",
       "  </tbody>\n",
       "</table>\n",
       "<p>1117 rows × 128 columns</p>\n",
       "</div>"
      ],
      "text/plain": [
       "      ls3  soct2  idio2  it1  l1b  aoj11  b1  b2  b3  b4  ...  q11n_5.0  \\\n",
       "0       1      2      2    2    4      1   5   2   5   4  ...         0   \n",
       "1       2      1      3    2    3      1   6   6   6   6  ...         1   \n",
       "2       1      1      1    2   10      1   3   2   1   7  ...         0   \n",
       "3       3      2      3    2    2      1   5   6   6   4  ...         0   \n",
       "4       4      1      2    3   10      1   2   4   4   7  ...         0   \n",
       "...   ...    ...    ...  ...  ...    ...  ..  ..  ..  ..  ...       ...   \n",
       "1493    2      1      1    2    9      2   2   4   4   2  ...         0   \n",
       "1495    2      3      2    2    1      2   5   3   6   5  ...         0   \n",
       "1496    2      3      2    1    6      2   3   4   5   4  ...         0   \n",
       "1497    1      2      1    2    6      2   5   5   5   4  ...         0   \n",
       "1498    2      3      3    2    5      2   4   6   3   5  ...         0   \n",
       "\n",
       "      q11n_6.0  q11n_7.0  etid_4.0  etid_4003.0  etid_4004.0  etid_4005.0  \\\n",
       "0            0         0         0            0            0            0   \n",
       "1            0         0         0            0            0            0   \n",
       "2            0         0         0            0            0            0   \n",
       "3            0         0         0            0            0            0   \n",
       "4            0         0         0            0            0            0   \n",
       "...        ...       ...       ...          ...          ...          ...   \n",
       "1493         0         0         0            0            0            0   \n",
       "1495         1         0         0            1            0            0   \n",
       "1496         0         0         0            0            0            0   \n",
       "1497         0         0         0            0            0            0   \n",
       "1498         0         0         1            0            0            0   \n",
       "\n",
       "      etid_4006.0  etid_4008.0  etid_7.0  \n",
       "0               0            0         0  \n",
       "1               0            0         0  \n",
       "2               0            0         0  \n",
       "3               0            0         0  \n",
       "4               0            0         0  \n",
       "...           ...          ...       ...  \n",
       "1493            0            0         0  \n",
       "1495            0            0         0  \n",
       "1496            0            0         0  \n",
       "1497            0            0         0  \n",
       "1498            0            0         0  \n",
       "\n",
       "[1117 rows x 128 columns]"
      ]
     },
     "execution_count": 11,
     "metadata": {},
     "output_type": "execute_result"
    }
   ],
   "source": [
    "#One Hot Encoding of categorical variables\n",
    "cat = ['a4', 'np1', 'prot3', 'vic1ext', 'vb1', 'vb2', 'usvb1011', 'usvb20', 'aca6', 'q3c', 'q11n', 'etid']\n",
    "dummies = pd.get_dummies(df[cat].astype(str), drop_first = True)\n",
    "df_encode = pd.concat([df.drop(cat, axis = 1), dummies], axis = 1)\n",
    "df_encode = df_encode.astype('int')\n",
    "df_encode"
   ]
  },
  {
   "cell_type": "code",
   "execution_count": 12,
   "id": "f56a067e-b772-4242-8b39-67678698e004",
   "metadata": {},
   "outputs": [],
   "source": [
    "le = LabelEncoder()\n",
    "le.fit(y)\n",
    "y = le.transform(y)"
   ]
  },
  {
   "cell_type": "code",
   "execution_count": 13,
   "id": "8a8179c3-5e38-4526-9d35-155751fd03c4",
   "metadata": {},
   "outputs": [
    {
     "data": {
      "text/plain": [
       "array([2, 2, 3, ..., 6, 1, 2], dtype=int64)"
      ]
     },
     "execution_count": 13,
     "metadata": {},
     "output_type": "execute_result"
    }
   ],
   "source": [
    "y"
   ]
  },
  {
   "cell_type": "code",
   "execution_count": 14,
   "id": "c962d3eb-4536-4d52-b32f-f6b5b6254039",
   "metadata": {},
   "outputs": [],
   "source": [
    "#Stratified sampling to produce train-test sets\n",
    "X_train, X_test, y_train, y_test = train_test_split(df_encode, y, stratify=y, test_size=0.2, random_state = 562)"
   ]
  },
  {
   "cell_type": "code",
   "execution_count": 15,
   "id": "d82cc50a-2bbd-4045-bc18-c63bce9cdc63",
   "metadata": {},
   "outputs": [],
   "source": [
    "#Oversampling to address imbalanced dataset\n",
    "oversample = SMOTE(random_state = 42)\n",
    "X_train, y_train = oversample.fit_resample(X_train, y_train)"
   ]
  },
  {
   "cell_type": "markdown",
   "id": "d726d048-a531-41cb-ba87-d229d143b848",
   "metadata": {},
   "source": [
    "## XGBoost Classifier Model"
   ]
  },
  {
   "cell_type": "code",
   "execution_count": 25,
   "id": "25ca9446-22fa-4cf6-b8f2-a6d54ffb9a7b",
   "metadata": {},
   "outputs": [
    {
     "name": "stdout",
     "output_type": "stream",
     "text": [
      "roc:0.81453\n",
      "f1:0.81088\n",
      "acc:0.81696\n",
      "prec:0.81349\n",
      "recall:0.81696\n"
     ]
    }
   ],
   "source": [
    "#XGBoost Classifier Model\n",
    "xgb = XGBClassifier(eta = 0.1, objective = 'multi:softprob', max_depth = 5, min_child_weight = 15,\n",
    "                    colsample_bytree = 0.84, n_estimators = 240, use_label_encoder = False, random_state = 562, eval_metric = roc_auc_score)\n",
    "#xgb.set_params()\n",
    "xgb.fit(X_train, y_train, verbose=0)\n",
    "xgb_pred_prob = xgb.predict_proba(X_test)\n",
    "xgb_pred = xgb.predict(X_test)\n",
    "\n",
    "#Evaluation Metrics\n",
    "metrics = ['roc', 'f1', 'acc', 'prec', 'recall']\n",
    "roc = roc_auc_score(y_test, xgb_pred_prob, multi_class = 'ovo', average = 'weighted')\n",
    "f1 = f1_score(y_test, xgb_pred, average = 'weighted')\n",
    "acc = accuracy_score(y_test, xgb_pred)\n",
    "prec = precision_score(y_test, xgb_pred, average = 'weighted')\n",
    "recall = recall_score(y_test, xgb_pred, average = 'weighted')\n",
    "xgb_scores = [roc, f1, acc, prec, recall]\n",
    "for i in range(0, 5):\n",
    "    print(metrics[i] + ':' + str(round(xgb_scores[i], 5)))"
   ]
  },
  {
   "cell_type": "code",
   "execution_count": 18,
   "id": "83555721-6a43-493e-9d49-84128a172da7",
   "metadata": {},
   "outputs": [
    {
     "data": {
      "text/plain": [
       "<AxesSubplot:title={'center':'ROC Curves'}, xlabel='False Positive Rate', ylabel='True Positive Rate'>"
      ]
     },
     "execution_count": 18,
     "metadata": {},
     "output_type": "execute_result"
    },
    {
     "data": {
      "image/png": "[encoded data removed]",
      "text/plain": [
       "<Figure size 432x288 with 1 Axes>"
      ]
     },
     "metadata": {
      "needs_background": "light"
     },
     "output_type": "display_data"
    }
   ],
   "source": [
    "skplt.metrics.plot_roc(y_test, xgb_pred_prob)"
   ]
  },
  {
   "cell_type": "code",
   "execution_count": 19,
   "id": "ce8c3942-7947-4cb4-a197-95e69f0d6b36",
   "metadata": {},
   "outputs": [
    {
     "data": {
      "text/plain": [
       "<AxesSubplot:title={'center':'Feature importance'}, xlabel='F score', ylabel='Features'>"
      ]
     },
     "execution_count": 19,
     "metadata": {},
     "output_type": "execute_result"
    },
    {
     "data": {
      "image/png": "[encoded data removed]",
      "text/plain": [
       "<Figure size 432x288 with 1 Axes>"
      ]
     },
     "metadata": {
      "needs_background": "light"
     },
     "output_type": "display_data"
    }
   ],
   "source": [
    "plot_importance(xgb)"
   ]
  },
  {
   "cell_type": "markdown",
   "id": "9bb3670c-cd25-4f8e-a04e-f5fb0d647bf2",
   "metadata": {},
   "source": [
    "## Random Forest Classifier Model"
   ]
  },
  {
   "cell_type": "code",
   "execution_count": 20,
   "id": "9de523b3-06ce-4b08-8f1d-6512863e583d",
   "metadata": {},
   "outputs": [
    {
     "name": "stdout",
     "output_type": "stream",
     "text": [
      "roc:0.83605\n",
      "f1:0.83834\n",
      "acc:0.83482\n",
      "prec:0.84874\n",
      "recall:0.83482\n"
     ]
    }
   ],
   "source": [
    "#Random Forest Classifier Model\n",
    "rf = RandomForestClassifier(n_estimators = 200, max_depth = 6, criterion = 'entropy', random_state = 562)\n",
    "rf.fit(X_train, y_train)\n",
    "rf_pred = rf.predict(X_test)\n",
    "rf_pred_prob = rf.predict_proba(X_test)\n",
    "\n",
    "roc = roc_auc_score(y_test, rf_pred_prob, multi_class = 'ovo', average = 'weighted')\n",
    "f1 = f1_score(y_test, rf_pred, average = 'weighted')\n",
    "acc = accuracy_score(y_test, rf_pred)\n",
    "prec = precision_score(y_test, rf_pred, average = 'weighted')\n",
    "recall = recall_score(y_test, rf_pred, average = 'weighted')\n",
    "rf_scores = [roc, f1, acc, prec, recall]\n",
    "for i in range(0, 5):\n",
    "    print(metrics[i] + ':' + str(round(rf_scores[i], 5)))"
   ]
  },
  {
   "cell_type": "markdown",
   "id": "c9c9b444-c3b3-4774-bfde-f13af51258f6",
   "metadata": {},
   "source": [
    "## Logistic Regression Model"
   ]
  },
  {
   "cell_type": "code",
   "execution_count": 21,
   "id": "b1dd4b4d-b702-42a1-9f85-d9649feb0df3",
   "metadata": {},
   "outputs": [
    {
     "name": "stdout",
     "output_type": "stream",
     "text": [
      "roc:0.7623\n",
      "f1:0.79298\n",
      "acc:0.79018\n",
      "prec:0.79819\n",
      "recall:0.79018\n"
     ]
    },
    {
     "name": "stderr",
     "output_type": "stream",
     "text": [
      "c:\\users\\jhsib\\appdata\\local\\programs\\python\\python39\\lib\\site-packages\\sklearn\\metrics\\_classification.py:1318: UndefinedMetricWarning: Precision is ill-defined and being set to 0.0 in labels with no predicted samples. Use `zero_division` parameter to control this behavior.\n",
      "  _warn_prf(average, modifier, msg_start, len(result))\n"
     ]
    }
   ],
   "source": [
    "#Logistic Regression Model\n",
    "logreg = LogisticRegression(random_state = 562, multi_class = 'multinomial', solver = 'saga', max_iter = 2000)\n",
    "logreg.fit(X_train, y_train)\n",
    "lr_pred = logreg.predict(X_test)\n",
    "lr_pred_prob = logreg.predict_proba(X_test)\n",
    "\n",
    "roc = roc_auc_score(y_test, lr_pred_prob, multi_class = 'ovo', average = 'weighted')\n",
    "f1 = f1_score(y_test, lr_pred, average = 'weighted')\n",
    "acc = accuracy_score(y_test, lr_pred)\n",
    "prec = precision_score(y_test, lr_pred, average = 'weighted')\n",
    "recall = recall_score(y_test, lr_pred, average = 'weighted')\n",
    "lr_scores = [roc, f1, acc, prec, recall]\n",
    "for i in range(0, 5):\n",
    "    print(metrics[i] + ':' + str(round(lr_scores[i], 5)))"
   ]
  },
  {
   "cell_type": "markdown",
   "id": "7c47d968-9fb3-4860-9d31-d60815b33e23",
   "metadata": {},
   "source": [
    "## Ensemble Model with all models"
   ]
  },
  {
   "cell_type": "code",
   "execution_count": 22,
   "id": "103a618f-1174-4305-92a9-f4356ca5e1d1",
   "metadata": {},
   "outputs": [
    {
     "name": "stdout",
     "output_type": "stream",
     "text": [
      "roc:0.81764\n",
      "f1:0.81972\n",
      "acc:0.82143\n",
      "prec:0.82292\n",
      "recall:0.82143\n"
     ]
    }
   ],
   "source": [
    "#Ensemble model: RF + XGB + LR\n",
    "ensemble = VotingClassifier(estimators=[('lr', logreg), ('xgb', xgb), ('rf', rf)], voting = 'soft')\n",
    "ensemble.fit(X_train, y_train)\n",
    "ensemble_pred = ensemble.predict(X_test)\n",
    "ensemble_pred_prob = ensemble.predict_proba(X_test)\n",
    "metrics = ['roc', 'f1', 'acc', 'prec', 'recall']\n",
    "roc = roc_auc_score(y_test, ensemble_pred_prob, multi_class = 'ovo', average = 'weighted')\n",
    "f1 = f1_score(y_test, ensemble_pred, average = 'weighted')\n",
    "acc = accuracy_score(y_test, ensemble_pred)\n",
    "prec = precision_score(y_test, ensemble_pred, average = 'weighted')\n",
    "recall = recall_score(y_test, ensemble_pred, average = 'weighted')\n",
    "ens_scores = [roc, f1, acc, prec, recall]\n",
    "for i in range(0, 5):\n",
    "    print(metrics[i] + ':' + str(round(ens_scores[i], 5)))"
   ]
  },
  {
   "cell_type": "code",
   "execution_count": 32,
   "id": "0fe1e62d-e33b-46e8-99f1-0916fcbe49f3",
   "metadata": {},
   "outputs": [
    {
     "name": "stdout",
     "output_type": "stream",
     "text": [
      "roc:0.83015\n",
      "f1:0.81936\n",
      "acc:0.82589\n",
      "prec:0.82254\n",
      "recall:0.82589\n"
     ]
    }
   ],
   "source": [
    "#Ensemble model: RF + XGB\n",
    "ensemble = VotingClassifier(estimators=[('xgb', xgb), ('rf', rf)], voting = 'soft')\n",
    "ensemble.fit(X_train, y_train)\n",
    "ensemble_pred = ensemble.predict(X_test)\n",
    "ensemble_pred_prob = ensemble.predict_proba(X_test)\n",
    "metrics = ['roc', 'f1', 'acc', 'prec', 'recall']\n",
    "roc = roc_auc_score(y_test, ensemble_pred_prob, multi_class = 'ovo', average = 'weighted')\n",
    "f1 = f1_score(y_test, ensemble_pred, average = 'weighted')\n",
    "acc = accuracy_score(y_test, ensemble_pred)\n",
    "prec = precision_score(y_test, ensemble_pred, average = 'weighted')\n",
    "recall = recall_score(y_test, ensemble_pred, average = 'weighted')\n",
    "ens_scores = [roc, f1, acc, prec, recall]\n",
    "for i in range(0, 5):\n",
    "    print(metrics[i] + ':' + str(round(ens_scores[i], 5)))"
   ]
  },
  {
   "cell_type": "code",
   "execution_count": 24,
   "id": "2535e835-8182-4c2b-a0aa-ebb0b38a30b2",
   "metadata": {},
   "outputs": [
    {
     "name": "stdout",
     "output_type": "stream",
     "text": [
      "roc:0.81349\n",
      "f1:0.79844\n",
      "acc:0.79911\n",
      "prec:0.80238\n",
      "recall:0.79911\n"
     ]
    },
    {
     "name": "stderr",
     "output_type": "stream",
     "text": [
      "c:\\users\\jhsib\\appdata\\local\\programs\\python\\python39\\lib\\site-packages\\sklearn\\metrics\\_classification.py:1318: UndefinedMetricWarning: Precision is ill-defined and being set to 0.0 in labels with no predicted samples. Use `zero_division` parameter to control this behavior.\n",
      "  _warn_prf(average, modifier, msg_start, len(result))\n"
     ]
    }
   ],
   "source": [
    "#Ensemble model: LR + XGB\n",
    "ensemble = VotingClassifier(estimators=[('lr', logreg), ('rf', rf)], voting = 'soft')\n",
    "ensemble.fit(X_train, y_train)\n",
    "ensemble_pred = ensemble.predict(X_test)\n",
    "ensemble_pred_prob = ensemble.predict_proba(X_test)\n",
    "metrics = ['roc', 'f1', 'acc', 'prec', 'recall']\n",
    "roc = roc_auc_score(y_test, ensemble_pred_prob, multi_class = 'ovo', average = 'weighted')\n",
    "f1 = f1_score(y_test, ensemble_pred, average = 'weighted')\n",
    "acc = accuracy_score(y_test, ensemble_pred)\n",
    "prec = precision_score(y_test, ensemble_pred, average = 'weighted')\n",
    "recall = recall_score(y_test, ensemble_pred, average = 'weighted')\n",
    "ens_scores = [roc, f1, acc, prec, recall]\n",
    "for i in range(0, 5):\n",
    "    print(metrics[i] + ':' + str(round(ens_scores[i], 5)))"
   ]
  },
  {
   "cell_type": "code",
   "execution_count": 33,
   "id": "4fefcf9c",
   "metadata": {},
   "outputs": [],
   "source": [
    "import pickle"
   ]
  },
  {
   "cell_type": "code",
   "execution_count": 34,
   "id": "c40d7512",
   "metadata": {},
   "outputs": [],
   "source": [
    "# Save the model as a pickle file\n",
    "with open('model.h', 'wb') as file:\n",
    "    bin_dat = pickle.dump(ensemble, file)\n"
   ]
  },
  {
   "cell_type": "code",
   "execution_count": 35,
   "id": "d2c0730f",
   "metadata": {},
   "outputs": [
    {
     "name": "stdout",
     "output_type": "stream",
     "text": [
      "roc:0.83015\n",
      "f1:0.81936\n",
      "acc:0.82589\n",
      "prec:0.82254\n",
      "recall:0.82589\n"
     ]
    }
   ],
   "source": [
    "# Laod the model from a pickle file\n",
    "with open('model.h', 'rb') as file:\n",
    "    loaded_model = pickle.load(file)\n",
    "    \n",
    "ensemble_pred = ensemble.predict(X_test)\n",
    "ensemble_pred_prob = ensemble.predict_proba(X_test)\n",
    "metrics = ['roc', 'f1', 'acc', 'prec', 'recall']\n",
    "roc = roc_auc_score(y_test, ensemble_pred_prob, multi_class = 'ovo', average = 'weighted')\n",
    "f1 = f1_score(y_test, ensemble_pred, average = 'weighted')\n",
    "acc = accuracy_score(y_test, ensemble_pred)\n",
    "prec = precision_score(y_test, ensemble_pred, average = 'weighted')\n",
    "recall = recall_score(y_test, ensemble_pred, average = 'weighted')\n",
    "ens_scores = [roc, f1, acc, prec, recall]\n",
    "for i in range(0, 5):\n",
    "    print(metrics[i] + ':' + str(round(ens_scores[i], 5)))"
   ]
  },
  {
   "cell_type": "code",
   "execution_count": null,
   "id": "7705a546",
   "metadata": {},
   "outputs": [],
   "source": []
  }
 ],
 "metadata": {
  "kernelspec": {
   "display_name": "Python 3 (ipykernel)",
   "language": "python",
   "name": "python3"
  },
  "language_info": {
   "codemirror_mode": {
    "name": "ipython",
    "version": 3
   },
   "file_extension": ".py",
   "mimetype": "text/x-python",
   "name": "python",
   "nbconvert_exporter": "python",
   "pygments_lexer": "ipython3",
   "version": "3.9.7"
  }
 },
 "nbformat": 4,
 "nbformat_minor": 5
}
